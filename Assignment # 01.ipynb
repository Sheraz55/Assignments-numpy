{
 "cells": [
  {
   "cell_type": "code",
   "execution_count": 1,
   "metadata": {},
   "outputs": [],
   "source": [
    "import numpy as np"
   ]
  },
  {
   "cell_type": "code",
   "execution_count": 2,
   "metadata": {},
   "outputs": [],
   "source": [
    "x=np.zeros(10)"
   ]
  },
  {
   "cell_type": "code",
   "execution_count": 3,
   "metadata": {},
   "outputs": [
    {
     "data": {
      "text/plain": [
       "array([0., 0., 0., 0., 0., 0., 0., 0., 0., 0.])"
      ]
     },
     "execution_count": 3,
     "metadata": {},
     "output_type": "execute_result"
    }
   ],
   "source": [
    "x"
   ]
  },
  {
   "cell_type": "code",
   "execution_count": 4,
   "metadata": {},
   "outputs": [
    {
     "name": "stdout",
     "output_type": "stream",
     "text": [
      "[10 11 12 13 14 15 16 17 18 19 20 21 22 23 24 25 26 27 28 29 30 31 32 33\n",
      " 34 35 36 37 38 39 40 41 42 43 44 45 46 47 48]\n"
     ]
    }
   ],
   "source": [
    "x=np.arange(10,49)\n",
    "print(x)"
   ]
  },
  {
   "cell_type": "code",
   "execution_count": 7,
   "metadata": {},
   "outputs": [
    {
     "data": {
      "text/plain": [
       "(39,)"
      ]
     },
     "execution_count": 7,
     "metadata": {},
     "output_type": "execute_result"
    }
   ],
   "source": [
    "x.shape"
   ]
  },
  {
   "cell_type": "code",
   "execution_count": 9,
   "metadata": {},
   "outputs": [
    {
     "data": {
      "text/plain": [
       "dtype('int32')"
      ]
     },
     "execution_count": 9,
     "metadata": {},
     "output_type": "execute_result"
    }
   ],
   "source": [
    "x.dtype"
   ]
  },
  {
   "cell_type": "code",
   "execution_count": 11,
   "metadata": {},
   "outputs": [
    {
     "name": "stdout",
     "output_type": "stream",
     "text": [
      "1.15.1\n",
      "mkl_info:\n",
      "    libraries = ['mkl_rt']\n",
      "    library_dirs = ['C:/Users/Sheraz Manzoor/Anaconda3\\\\Library\\\\lib']\n",
      "    define_macros = [('SCIPY_MKL_H', None), ('HAVE_CBLAS', None)]\n",
      "    include_dirs = ['C:\\\\Program Files (x86)\\\\IntelSWTools\\\\compilers_and_libraries_2016.4.246\\\\windows\\\\mkl', 'C:\\\\Program Files (x86)\\\\IntelSWTools\\\\compilers_and_libraries_2016.4.246\\\\windows\\\\mkl\\\\include', 'C:\\\\Program Files (x86)\\\\IntelSWTools\\\\compilers_and_libraries_2016.4.246\\\\windows\\\\mkl\\\\lib', 'C:/Users/Sheraz Manzoor/Anaconda3\\\\Library\\\\include']\n",
      "blas_mkl_info:\n",
      "    libraries = ['mkl_rt']\n",
      "    library_dirs = ['C:/Users/Sheraz Manzoor/Anaconda3\\\\Library\\\\lib']\n",
      "    define_macros = [('SCIPY_MKL_H', None), ('HAVE_CBLAS', None)]\n",
      "    include_dirs = ['C:\\\\Program Files (x86)\\\\IntelSWTools\\\\compilers_and_libraries_2016.4.246\\\\windows\\\\mkl', 'C:\\\\Program Files (x86)\\\\IntelSWTools\\\\compilers_and_libraries_2016.4.246\\\\windows\\\\mkl\\\\include', 'C:\\\\Program Files (x86)\\\\IntelSWTools\\\\compilers_and_libraries_2016.4.246\\\\windows\\\\mkl\\\\lib', 'C:/Users/Sheraz Manzoor/Anaconda3\\\\Library\\\\include']\n",
      "blas_opt_info:\n",
      "    libraries = ['mkl_rt']\n",
      "    library_dirs = ['C:/Users/Sheraz Manzoor/Anaconda3\\\\Library\\\\lib']\n",
      "    define_macros = [('SCIPY_MKL_H', None), ('HAVE_CBLAS', None)]\n",
      "    include_dirs = ['C:\\\\Program Files (x86)\\\\IntelSWTools\\\\compilers_and_libraries_2016.4.246\\\\windows\\\\mkl', 'C:\\\\Program Files (x86)\\\\IntelSWTools\\\\compilers_and_libraries_2016.4.246\\\\windows\\\\mkl\\\\include', 'C:\\\\Program Files (x86)\\\\IntelSWTools\\\\compilers_and_libraries_2016.4.246\\\\windows\\\\mkl\\\\lib', 'C:/Users/Sheraz Manzoor/Anaconda3\\\\Library\\\\include']\n",
      "lapack_mkl_info:\n",
      "    libraries = ['mkl_rt']\n",
      "    library_dirs = ['C:/Users/Sheraz Manzoor/Anaconda3\\\\Library\\\\lib']\n",
      "    define_macros = [('SCIPY_MKL_H', None), ('HAVE_CBLAS', None)]\n",
      "    include_dirs = ['C:\\\\Program Files (x86)\\\\IntelSWTools\\\\compilers_and_libraries_2016.4.246\\\\windows\\\\mkl', 'C:\\\\Program Files (x86)\\\\IntelSWTools\\\\compilers_and_libraries_2016.4.246\\\\windows\\\\mkl\\\\include', 'C:\\\\Program Files (x86)\\\\IntelSWTools\\\\compilers_and_libraries_2016.4.246\\\\windows\\\\mkl\\\\lib', 'C:/Users/Sheraz Manzoor/Anaconda3\\\\Library\\\\include']\n",
      "lapack_opt_info:\n",
      "    libraries = ['mkl_rt']\n",
      "    library_dirs = ['C:/Users/Sheraz Manzoor/Anaconda3\\\\Library\\\\lib']\n",
      "    define_macros = [('SCIPY_MKL_H', None), ('HAVE_CBLAS', None)]\n",
      "    include_dirs = ['C:\\\\Program Files (x86)\\\\IntelSWTools\\\\compilers_and_libraries_2016.4.246\\\\windows\\\\mkl', 'C:\\\\Program Files (x86)\\\\IntelSWTools\\\\compilers_and_libraries_2016.4.246\\\\windows\\\\mkl\\\\include', 'C:\\\\Program Files (x86)\\\\IntelSWTools\\\\compilers_and_libraries_2016.4.246\\\\windows\\\\mkl\\\\lib', 'C:/Users/Sheraz Manzoor/Anaconda3\\\\Library\\\\include']\n",
      "None\n"
     ]
    }
   ],
   "source": [
    "print(np.__version__)\n",
    "print(np.show_config())"
   ]
  },
  {
   "cell_type": "code",
   "execution_count": 12,
   "metadata": {},
   "outputs": [
    {
     "data": {
      "text/plain": [
       "1"
      ]
     },
     "execution_count": 12,
     "metadata": {},
     "output_type": "execute_result"
    }
   ],
   "source": [
    "x.ndim"
   ]
  },
  {
   "cell_type": "code",
   "execution_count": 15,
   "metadata": {},
   "outputs": [
    {
     "name": "stdout",
     "output_type": "stream",
     "text": [
      "[[1 2 3]\n",
      " [4 5 6]]\n"
     ]
    }
   ],
   "source": [
    "y=np.array([[1,2,3],[4,5,6]])\n",
    "print(y)"
   ]
  },
  {
   "cell_type": "code",
   "execution_count": 17,
   "metadata": {},
   "outputs": [
    {
     "name": "stdout",
     "output_type": "stream",
     "text": [
      "[[1 2 3]\n",
      " [3 4 5]\n",
      " [4 5 6]]\n"
     ]
    }
   ],
   "source": [
    "z=np.array([[1,2,3],[3,4,5],[4,5,6]])\n",
    "print(z)"
   ]
  },
  {
   "cell_type": "code",
   "execution_count": 19,
   "metadata": {},
   "outputs": [
    {
     "name": "stdout",
     "output_type": "stream",
     "text": [
      "[2 4 5]\n",
      "[5 4 2]\n"
     ]
    }
   ],
   "source": [
    "x1=np.array([2,4,5])\n",
    "x2=x1[::-1]\n",
    "print(x1)\n",
    "print(x2)"
   ]
  },
  {
   "cell_type": "code",
   "execution_count": 29,
   "metadata": {},
   "outputs": [
    {
     "name": "stdout",
     "output_type": "stream",
     "text": [
      "[0. 0. 0. 0. 1. 0. 0. 0. 0. 0.]\n"
     ]
    }
   ],
   "source": [
    "x=np.zeros(10)\n",
    "x[4]=1\n",
    "print(x)"
   ]
  },
  {
   "cell_type": "code",
   "execution_count": 31,
   "metadata": {},
   "outputs": [
    {
     "name": "stdout",
     "output_type": "stream",
     "text": [
      "[[1. 0. 0.]\n",
      " [0. 1. 0.]\n",
      " [0. 0. 1.]]\n"
     ]
    }
   ],
   "source": [
    "x=np.identity(3)\n",
    "print(x)"
   ]
  },
  {
   "cell_type": "code",
   "execution_count": 55,
   "metadata": {
    "scrolled": true
   },
   "outputs": [
    {
     "name": "stdout",
     "output_type": "stream",
     "text": [
      "[1. 2. 3. 4. 5.]\n"
     ]
    },
    {
     "data": {
      "text/plain": [
       "dtype('int32')"
      ]
     },
     "execution_count": 55,
     "metadata": {},
     "output_type": "execute_result"
    }
   ],
   "source": [
    "x = np.array([1, 2, 3, 4, 5])\n",
    "print(x.astype(float))\n",
    "x.dtype"
   ]
  },
  {
   "cell_type": "code",
   "execution_count": 51,
   "metadata": {},
   "outputs": [
    {
     "name": "stdout",
     "output_type": "stream",
     "text": [
      "[[12.   12.51]\n",
      " [ 2.34  7.98]\n",
      " [25.23 36.5 ]]\n",
      "[[12 12]\n",
      " [ 2  7]\n",
      " [25 36]]\n"
     ]
    }
   ],
   "source": [
    "x= np.array([[12.0, 12.51], [2.34, 7.98], [25.23, 36.50]])\n",
    "print(x)\n",
    "print(x.astype(int))"
   ]
  },
  {
   "cell_type": "code",
   "execution_count": null,
   "metadata": {},
   "outputs": [],
   "source": [
    "Convert the data type of the given array from int to float"
   ]
  },
  {
   "cell_type": "code",
   "execution_count": 61,
   "metadata": {},
   "outputs": [
    {
     "name": "stdout",
     "output_type": "stream",
     "text": [
      "[[1. 2. 3.]\n",
      " [4. 5. 6.]]\n",
      "[[ 0.  4.  1.]\n",
      " [ 7.  2. 12.]]\n",
      "[[ 0.  8.  3.]\n",
      " [28. 10. 72.]]\n"
     ]
    }
   ],
   "source": [
    "y1 = np.array([[1., 2., 3.],[4., 5., 6.]])  \n",
    "\n",
    "y2 = np.array([[0., 4., 1.],[7., 2., 12.]])\n",
    "print(y1)\n",
    "print(y2)\n",
    "y = y1*y2\n",
    "print(y)"
   ]
  },
  {
   "cell_type": "code",
   "execution_count": 66,
   "metadata": {},
   "outputs": [
    {
     "name": "stdout",
     "output_type": "stream",
     "text": [
      "[[False False False]\n",
      " [False False False]]\n"
     ]
    }
   ],
   "source": [
    "comparison=y1==y2\n",
    "print(comparison)"
   ]
  },
  {
   "cell_type": "code",
   "execution_count": null,
   "metadata": {},
   "outputs": [],
   "source": [
    "Extract all odd numbers from arr with values(0-9)\n",
    "Extract all odd numbers from arr with values(0-9)lo"
   ]
  },
  {
   "cell_type": "code",
   "execution_count": 9,
   "metadata": {},
   "outputs": [],
   "source": [
    "import numpy as np"
   ]
  },
  {
   "cell_type": "code",
   "execution_count": 17,
   "metadata": {},
   "outputs": [
    {
     "name": "stdout",
     "output_type": "stream",
     "text": [
      "[ 0  1  2  3 12 12 12 12  8  9]\n"
     ]
    }
   ],
   "source": [
    "arr=np.arange(10)\n",
    "arr[4:8]=12\n",
    "print(arr)"
   ]
  },
  {
   "cell_type": "code",
   "execution_count": 76,
   "metadata": {},
   "outputs": [
    {
     "name": "stdout",
     "output_type": "stream",
     "text": [
      "[[1. 1. 1. 1.]\n",
      " [1. 0. 0. 1.]\n",
      " [1. 0. 0. 1.]\n",
      " [1. 1. 1. 1.]]\n"
     ]
    }
   ],
   "source": [
    "import numpy as np\n",
    "x=np.ones((4,4))\n",
    "x[1:-1,1:-1]=0\n",
    "print(x)"
   ]
  },
  {
   "cell_type": "code",
   "execution_count": 19,
   "metadata": {},
   "outputs": [
    {
     "name": "stdout",
     "output_type": "stream",
     "text": [
      "[[ 1  2  3]\n",
      " [ 4 12  6]\n",
      " [ 7  8  9]]\n"
     ]
    }
   ],
   "source": [
    "arr2d = np.array([[1, 2, 3],\n",
    "\n",
    "            [4, 5, 6], \n",
    "\n",
    "            [7, 8, 9]])\n",
    "arr2d[1,1]=12\n",
    "print(arr2d)"
   ]
  },
  {
   "cell_type": "code",
   "execution_count": 21,
   "metadata": {},
   "outputs": [
    {
     "name": "stdout",
     "output_type": "stream",
     "text": [
      "[[[64 64 64]\n",
      "  [64 64 64]]\n",
      "\n",
      " [[ 7  8  9]\n",
      "  [10 11 12]]]\n"
     ]
    }
   ],
   "source": [
    "arr3d = np.array([[[1, 2, 3], [4, 5, 6]], [[7, 8, 9], [10, 11, 12]]])\n",
    "arr3d[0]=64\n",
    "print(arr3d)"
   ]
  },
  {
   "cell_type": "code",
   "execution_count": 47,
   "metadata": {},
   "outputs": [
    {
     "name": "stdout",
     "output_type": "stream",
     "text": [
      "[[0 1 2 3 4]\n",
      " [5 6 7 8 9]]\n",
      "[0 1 2 3 4]\n"
     ]
    }
   ],
   "source": [
    "arr4 = np.arange(10).reshape(2,5)\n",
    "print(arr4)\n",
    "y=arr4[0]\n",
    "print(y)"
   ]
  },
  {
   "cell_type": "code",
   "execution_count": 43,
   "metadata": {},
   "outputs": [
    {
     "name": "stdout",
     "output_type": "stream",
     "text": [
      "[[0 1 2 3 4]\n",
      " [5 6 7 8 9]]\n",
      "6\n"
     ]
    }
   ],
   "source": [
    "arr4 = np.arange(10).reshape(2,5)\n",
    "print(arr4)\n",
    "y=arr4[1,1]\n",
    "print(y)"
   ]
  },
  {
   "cell_type": "code",
   "execution_count": 51,
   "metadata": {},
   "outputs": [
    {
     "name": "stdout",
     "output_type": "stream",
     "text": [
      "[[0 1 2 3 4]\n",
      " [5 6 7 8 9]]\n",
      "[2 7]\n"
     ]
    }
   ],
   "source": [
    "arr4 = np.arange(10).reshape(2,5)\n",
    "print(arr4)\n",
    "y=arr4[:,2]\n",
    "print(y)"
   ]
  },
  {
   "cell_type": "code",
   "execution_count": 61,
   "metadata": {},
   "outputs": [
    {
     "name": "stdout",
     "output_type": "stream",
     "text": [
      "[[-1.15662404  0.70121784 -0.86069936 -1.56994299 -3.63743357 -1.20728233\n",
      "   0.72314644 -0.72684634  0.3336113  -1.30799165]\n",
      " [ 0.26906247  2.17624204 -0.43455212 -0.87353597 -0.24345568 -0.57064247\n",
      "   0.35187069 -1.16719555  0.29370739  0.21447991]\n",
      " [-0.39339679  1.64281854 -0.22977385  0.54751379  1.93434412  0.83322113\n",
      "   1.13313439 -0.46151904  0.29690527  0.12985362]\n",
      " [ 0.06432273 -0.29656694 -0.75085681  0.46169683 -0.62372838  0.67768275\n",
      "   0.64875524  0.59631192  1.00572746 -0.51662511]\n",
      " [-1.01357938  2.81647862 -0.80502729  0.2722039   2.43883482  1.6374389\n",
      "  -0.19448858  1.37793442  0.97891792  0.12473289]\n",
      " [ 0.59442063  0.76152226  0.4245893   0.40205111  1.29206749 -0.551391\n",
      "  -0.13855074  0.18204591  1.17706302 -0.10754935]\n",
      " [ 0.40466577  1.26260698  1.85927159 -1.07197094 -1.15117807 -0.6191822\n",
      "  -0.4605051   0.10399458  0.54905162  0.25996048]\n",
      " [-0.36476532 -1.39822654  0.81783696 -0.29181105 -0.48935795  1.7592532\n",
      "  -0.63169926 -0.00890471  0.16688646 -0.13720361]\n",
      " [-0.0440089  -0.1297504   0.49657707  0.84607625 -2.12038072 -1.33494144\n",
      "  -0.11999499 -0.8193754   0.49327166  0.83922178]\n",
      " [ 0.17321227  1.690144    0.56106182  1.22312531 -0.01461795  0.15221489\n",
      "   0.78565144  0.19284637  0.02134056  0.69699197]]\n"
     ]
    }
   ],
   "source": [
    "arr5=np.random.randn(10,10)\n",
    "print(arr5)"
   ]
  },
  {
   "cell_type": "code",
   "execution_count": 66,
   "metadata": {},
   "outputs": [
    {
     "data": {
      "text/plain": [
       "-3.637433573647877"
      ]
     },
     "execution_count": 66,
     "metadata": {},
     "output_type": "execute_result"
    }
   ],
   "source": [
    "arr5.min()"
   ]
  },
  {
   "cell_type": "code",
   "execution_count": 67,
   "metadata": {},
   "outputs": [
    {
     "data": {
      "text/plain": [
       "2.8164786151776293"
      ]
     },
     "execution_count": 67,
     "metadata": {},
     "output_type": "execute_result"
    }
   ],
   "source": [
    "arr5.max()"
   ]
  },
  {
   "cell_type": "code",
   "execution_count": null,
   "metadata": {},
   "outputs": [],
   "source": [
    "\n",
    "Find all the values from array data where the values from array names are not equal to Will"
   ]
  },
  {
   "cell_type": "code",
   "execution_count": 69,
   "metadata": {},
   "outputs": [
    {
     "name": "stdout",
     "output_type": "stream",
     "text": [
      "[2 4]\n"
     ]
    }
   ],
   "source": [
    "a = np.array([1,2,3,2,3,4,3,4,5,6]) \n",
    "b = np.array([7,2,10,2,7,4,9,4,9,8])\n",
    "common = np.intersect1d(a,b)\n",
    "print(common)\n"
   ]
  },
  {
   "cell_type": "code",
   "execution_count": 79,
   "metadata": {},
   "outputs": [
    {
     "name": "stdout",
     "output_type": "stream",
     "text": [
      "[10  1 10  1 10  5 10  5 10 10]\n"
     ]
    }
   ],
   "source": [
    "A = np.array([1,2,3,2,3,4,3,4,5,6]) \n",
    "B = np.array([7,2,10,2,7,4,9,4,9,8])\n",
    "commonposition = np.searchsorted(A,B)\n",
    "print(commonposition)"
   ]
  },
  {
   "cell_type": "code",
   "execution_count": 80,
   "metadata": {},
   "outputs": [
    {
     "data": {
      "text/plain": [
       "array([1, 5], dtype=int64)"
      ]
     },
     "execution_count": 80,
     "metadata": {},
     "output_type": "execute_result"
    }
   ],
   "source": [
    "np.searchsorted(A, np.intersect1d(A, B))"
   ]
  },
  {
   "cell_type": "code",
   "execution_count": null,
   "metadata": {},
   "outputs": [],
   "source": [
    "names = np.array(['Bob', 'Joe', 'Will', 'Bob', 'Will', 'Joe', 'Joe']) data = np.random.randn(7, 4)"
   ]
  },
  {
   "cell_type": "code",
   "execution_count": 87,
   "metadata": {},
   "outputs": [
    {
     "name": "stdout",
     "output_type": "stream",
     "text": [
      "[[ 1  2  3  4  5]\n",
      " [ 6  7  8  9 10]\n",
      " [11 12 13 14 15]]\n"
     ]
    }
   ],
   "source": [
    "import numpy as np\n",
    "x=np.arange(1,16).reshape(3,5)\n",
    "print(x)"
   ]
  },
  {
   "cell_type": "code",
   "execution_count": 90,
   "metadata": {},
   "outputs": [
    {
     "name": "stdout",
     "output_type": "stream",
     "text": [
      "[[[ 1  2  3  4]\n",
      "  [ 5  6  7  8]]\n",
      "\n",
      " [[ 9 10 11 12]\n",
      "  [13 14 15 16]]]\n"
     ]
    }
   ],
   "source": [
    "x1=np.arange(1,17).reshape(2,2,4)\n",
    "print(x1)"
   ]
  },
  {
   "cell_type": "code",
   "execution_count": 91,
   "metadata": {},
   "outputs": [
    {
     "name": "stdout",
     "output_type": "stream",
     "text": [
      "[[[ 1  2]\n",
      "  [ 3  4]]\n",
      "\n",
      " [[ 5  6]\n",
      "  [ 7  8]]\n",
      "\n",
      " [[ 9 10]\n",
      "  [11 12]]\n",
      "\n",
      " [[13 14]\n",
      "  [15 16]]]\n"
     ]
    }
   ],
   "source": [
    "x2=np.arange(1,17).reshape(4,2,2)\n",
    "print(x2)"
   ]
  },
  {
   "cell_type": "code",
   "execution_count": 97,
   "metadata": {},
   "outputs": [
    {
     "name": "stdout",
     "output_type": "stream",
     "text": [
      "[0.         1.         1.41421356 1.73205081 2.         2.23606798\n",
      " 2.44948974 2.64575131 2.82842712 3.        ]\n"
     ]
    }
   ],
   "source": [
    "x3=np.array([0,1,2,3,4,5,6,7,8,9])\n",
    "x4=np.sqrt(x3)\n",
    "print(x4)"
   ]
  },
  {
   "cell_type": "code",
   "execution_count": 116,
   "metadata": {},
   "outputs": [
    {
     "name": "stdout",
     "output_type": "stream",
     "text": [
      "[ 2.69904421  0.71977589 -1.00705486  1.37150088  0.52955045  0.39804088\n",
      "  1.21692217 -1.3675885   0.87517671  0.32811314  0.64920107  0.08759422]\n",
      "[-0.30023596 -0.2083361  -0.76666613 -0.01930868 -0.68833656 -1.16816067\n",
      " -0.22428348 -0.18041858  0.24339362  0.10971843  0.07225397  0.74973049]\n"
     ]
    }
   ],
   "source": [
    "x5=np.random.randn(12)\n",
    "X5=np.random.randn(12)\n",
    "print(X5)\n",
    "print(x5)"
   ]
  },
  {
   "cell_type": "code",
   "execution_count": 117,
   "metadata": {},
   "outputs": [
    {
     "name": "stdout",
     "output_type": "stream",
     "text": [
      "[0.74973049 2.69904421]\n"
     ]
    }
   ],
   "source": [
    "x7=np.array([x5.max(),X5.max()])\n",
    "print(x7)"
   ]
  },
  {
   "cell_type": "code",
   "execution_count": 103,
   "metadata": {},
   "outputs": [
    {
     "name": "stdout",
     "output_type": "stream",
     "text": [
      "[[ 28.  64.]\n",
      " [ 67. 181.]]\n"
     ]
    }
   ],
   "source": [
    "x = np.array([[1., 2., 3.], [4., 5., 6.]])\n",
    "y = np.array([[6., 23.], [-1, 7], [8, 9]])\n",
    "z=np.dot(x,y)\n",
    "print(z)"
   ]
  },
  {
   "cell_type": "code",
   "execution_count": 108,
   "metadata": {},
   "outputs": [
    {
     "data": {
      "text/plain": [
       "array([-1.04445980e+00,  3.01174189e-02,  1.36876830e-02, -1.00181439e-01,\n",
       "       -1.24957677e+00, -4.27067986e-02, -1.97134941e-01,  1.97049863e-01,\n",
       "        1.97905982e-01,  9.18093604e-01,  1.21390219e+00,  9.98176590e-01,\n",
       "        1.59923518e+00,  5.32671266e-01, -1.18324976e+00, -3.20597033e+00,\n",
       "       -2.85650049e+00, -2.76779266e+00, -3.36482404e+00, -4.38258480e+00,\n",
       "       -4.24732988e+00, -4.95113599e+00, -4.30292521e+00, -3.69578437e+00,\n",
       "       -4.02386626e+00, -5.98359219e+00, -6.21497364e+00, -5.13826009e+00,\n",
       "       -4.89003081e+00, -6.05269178e+00, -7.55334721e+00, -6.37001745e+00,\n",
       "       -6.63511311e+00, -7.84105369e+00, -7.54224029e+00, -6.24378679e+00,\n",
       "       -7.64122280e+00, -7.43415662e+00, -7.12067991e+00, -7.74705226e+00,\n",
       "       -8.13526995e+00, -8.34725403e+00, -9.12516727e+00, -8.82646488e+00,\n",
       "       -7.20486544e+00, -6.95504392e+00, -7.91060361e+00, -7.96460798e+00,\n",
       "       -9.61859781e+00, -9.15225288e+00, -1.07329899e+01, -1.13088742e+01,\n",
       "       -1.06101668e+01, -1.00053073e+01, -9.95412811e+00, -1.07588297e+01,\n",
       "       -9.14259922e+00, -9.63863551e+00, -9.97852038e+00, -1.00000771e+01,\n",
       "       -1.09332913e+01, -9.89433442e+00, -8.76460121e+00, -8.93721924e+00,\n",
       "       -9.19283253e+00, -1.07014664e+01, -1.04679241e+01, -1.20934256e+01,\n",
       "       -1.25256151e+01, -1.11353827e+01, -1.03214776e+01, -1.04997718e+01,\n",
       "       -1.07516251e+01, -8.64323670e+00, -9.64367968e+00, -1.10327780e+01,\n",
       "       -1.19961402e+01, -1.23673857e+01, -1.29090391e+01, -1.26754769e+01,\n",
       "       -1.20909275e+01, -1.19134293e+01, -1.35110204e+01, -1.30083791e+01,\n",
       "       -1.12107552e+01, -1.15850174e+01, -1.09831763e+01, -9.09500996e+00,\n",
       "       -9.91427344e+00, -1.04137439e+01, -8.87638665e+00, -8.02133378e+00,\n",
       "       -6.30507342e+00, -8.60573464e+00, -7.78510228e+00, -8.01844360e+00,\n",
       "       -8.74764012e+00, -8.14907698e+00, -7.27708030e+00, -6.30090947e+00,\n",
       "       -5.32205908e+00, -6.23591037e+00, -6.20673400e+00, -6.64066718e+00,\n",
       "       -6.22676736e+00, -5.40191472e+00, -5.97164806e+00, -7.85911861e+00,\n",
       "       -6.57267121e+00, -6.58170556e+00, -6.14283277e+00, -4.72827796e+00,\n",
       "       -4.28041891e+00, -4.88554063e+00, -6.94568642e+00, -4.36160386e+00,\n",
       "       -4.10408738e+00, -3.61932641e+00, -2.55006419e+00, -9.61209129e-01,\n",
       "       -1.66187886e+00, -1.61673583e+00, -2.03054068e+00, -2.48112360e+00,\n",
       "       -3.63144721e+00, -2.37680337e+00, -1.62989610e+00, -1.18119678e+00,\n",
       "       -2.42659998e+00, -2.49802893e+00, -4.85023501e-01, -4.40933609e-01,\n",
       "       -1.75997857e+00, -2.88596824e+00, -2.55373492e+00, -2.87447567e+00,\n",
       "       -1.54566621e-01,  8.99084243e-01, -6.18674119e-01, -1.93700494e+00,\n",
       "       -3.98207209e+00, -4.35010289e+00, -5.01294466e+00, -3.48018270e+00,\n",
       "       -2.56272069e+00, -3.71067454e+00, -3.90593109e+00, -3.84402024e+00,\n",
       "       -3.87715638e+00, -3.84135267e+00, -4.88464490e+00, -4.18781862e+00,\n",
       "       -4.09138694e+00, -4.59183489e+00, -5.60021516e+00, -4.39161764e+00,\n",
       "       -4.00894985e+00, -4.70732022e+00, -5.20352065e+00, -4.79659254e+00,\n",
       "       -4.61038674e+00, -5.19563220e+00, -4.53109968e+00, -5.81303696e+00,\n",
       "       -4.36575642e+00, -5.31805684e+00, -5.84664275e+00, -5.41836059e+00,\n",
       "       -5.56575004e+00, -3.69177367e+00, -4.03722399e+00, -3.87983813e+00,\n",
       "       -3.53954887e+00, -4.13313678e+00, -4.90399289e+00, -2.67715142e+00,\n",
       "       -2.82490048e+00, -3.37618298e+00, -4.20659277e+00, -5.19780825e+00,\n",
       "       -2.66076963e+00, -1.37032158e+00, -1.35654152e+00, -1.57413080e+00,\n",
       "       -3.34051328e+00, -3.43174127e+00, -3.34829254e+00, -2.34958546e+00,\n",
       "       -1.84194509e+00, -1.06895728e+00,  3.88262484e-01,  6.03717525e-01,\n",
       "        1.99913620e+00,  3.29529666e+00,  2.70430982e+00,  3.87750532e+00,\n",
       "        3.44840733e+00,  1.59856776e+00,  1.12061545e+00, -1.30548903e-01,\n",
       "       -2.76180932e+00, -3.58446874e+00, -3.43489517e+00, -3.53961696e+00,\n",
       "       -1.24617256e+00, -1.52781866e+00, -1.46041147e+00, -6.55109070e-01,\n",
       "       -5.62000911e-01, -1.41472287e-01,  8.64371137e-01, -8.01975160e-01,\n",
       "       -7.66199752e-01, -9.78036037e-01, -7.16754144e-01,  2.30392987e-01,\n",
       "        1.32135663e+00, -5.96069167e-01, -3.13444339e-01,  1.58367983e+00,\n",
       "        2.03908456e+00,  2.04698933e+00,  2.10478379e+00,  3.26385487e+00,\n",
       "        3.72454608e+00,  3.96663424e+00,  3.13619529e+00,  2.30346067e+00,\n",
       "        3.20771247e+00,  2.38162394e+00,  3.20780539e+00,  2.38998479e+00,\n",
       "        2.18052331e+00,  1.28087268e+00,  2.32473693e+00,  2.82612658e+00,\n",
       "        2.63307514e+00,  1.55701215e+00,  2.80739617e+00,  3.94636538e+00,\n",
       "        3.61746545e+00,  3.28434999e+00,  1.65874097e+00,  2.10809993e+00,\n",
       "        3.50959622e+00,  3.43238111e+00,  1.75279710e+00,  1.94274725e+00,\n",
       "        2.20745921e+00,  2.39051329e+00,  1.43709811e+00,  5.38086005e-01,\n",
       "        1.14535383e+00,  2.18786986e+00,  9.84335725e-01,  1.27484865e+00,\n",
       "        2.50933432e+00,  3.21482227e+00,  3.40916200e+00,  4.48349600e+00,\n",
       "        4.14888698e+00,  4.21887770e+00,  3.99181980e+00,  4.94813238e+00,\n",
       "        4.42013619e+00,  3.72216751e+00,  3.06939889e+00,  3.26053027e+00,\n",
       "        4.67099882e+00,  4.56487021e+00,  3.44160924e+00,  3.78679340e+00,\n",
       "        4.10795430e+00,  5.15266176e+00,  5.20013836e+00,  6.19583424e+00,\n",
       "        7.16860434e+00,  6.96268257e+00,  5.71390339e+00,  4.68925988e+00,\n",
       "        3.44083328e+00,  3.58987648e+00,  1.57232389e+00, -2.05008086e-01,\n",
       "        5.91411248e-01, -5.59359620e-01, -2.70406330e+00, -3.17187751e+00,\n",
       "       -2.99175400e+00, -2.18360346e+00, -1.74318685e+00, -2.85547745e+00,\n",
       "       -4.69141796e+00, -5.33670384e+00, -4.48010248e+00, -4.25786709e+00,\n",
       "       -5.70429436e+00, -6.33924109e+00, -8.96605866e+00, -8.74838163e+00,\n",
       "       -7.67934283e+00, -8.27612671e+00, -9.82861097e+00, -9.88412296e+00,\n",
       "       -9.99247271e+00, -9.83809311e+00, -1.00403540e+01, -9.78065772e+00,\n",
       "       -1.00114777e+01, -1.00315561e+01, -7.38468126e+00, -1.05616951e+01,\n",
       "       -8.77219869e+00, -9.71412361e+00, -1.04987431e+01, -1.05233717e+01,\n",
       "       -9.80883843e+00, -8.45682426e+00, -8.07533173e+00, -7.61477138e+00,\n",
       "       -7.51797956e+00, -7.34248027e+00, -9.24722879e+00, -9.33896114e+00,\n",
       "       -8.30528559e+00, -8.09039847e+00, -9.74359835e+00, -1.01627687e+01,\n",
       "       -8.78505570e+00, -9.24613975e+00, -7.43992510e+00, -6.98572344e+00,\n",
       "       -6.29180642e+00, -5.17823931e+00, -6.40739647e+00, -7.55756254e+00,\n",
       "       -9.66644418e+00, -8.83209109e+00, -8.92699991e+00, -9.49695855e+00,\n",
       "       -1.01568876e+01, -9.88292405e+00, -1.17332566e+01, -1.26065005e+01,\n",
       "       -1.34630614e+01, -1.38908532e+01, -1.51525044e+01, -1.38602691e+01,\n",
       "       -1.35417831e+01, -1.49093008e+01, -1.39188103e+01, -1.31844472e+01,\n",
       "       -1.22164089e+01, -1.32795285e+01, -1.42187302e+01, -1.27166821e+01,\n",
       "       -1.30592311e+01, -1.23721290e+01, -1.19362456e+01, -1.19009545e+01,\n",
       "       -1.02725707e+01, -1.09290499e+01, -1.11713228e+01, -1.02108161e+01,\n",
       "       -9.75488573e+00, -1.02785063e+01, -1.07778241e+01, -9.71117509e+00,\n",
       "       -1.15288792e+01, -1.16544317e+01, -1.15424219e+01, -1.29582093e+01,\n",
       "       -1.21738446e+01, -1.24062136e+01, -1.33796688e+01, -1.33057120e+01,\n",
       "       -1.09364536e+01, -1.20478138e+01, -1.20153270e+01, -1.21500777e+01,\n",
       "       -1.20890331e+01, -1.25218791e+01, -1.29521730e+01, -1.32578959e+01,\n",
       "       -1.38367153e+01, -1.41001482e+01, -1.34942189e+01, -1.45468046e+01,\n",
       "       -1.49303283e+01, -1.46421645e+01, -1.29609910e+01, -1.35307381e+01,\n",
       "       -1.26597844e+01, -1.29644476e+01, -1.53803215e+01, -1.47564469e+01,\n",
       "       -1.49457780e+01, -1.38561223e+01, -1.34210109e+01, -1.43826034e+01])"
      ]
     },
     "execution_count": 108,
     "metadata": {},
     "output_type": "execute_result"
    }
   ],
   "source": [
    "x6=np.random.randn(20,20)\n",
    "x6.cumsum()"
   ]
  },
  {
   "cell_type": "code",
   "execution_count": null,
   "metadata": {},
   "outputs": [],
   "source": []
  }
 ],
 "metadata": {
  "kernelspec": {
   "display_name": "Python 3",
   "language": "python",
   "name": "python3"
  },
  "language_info": {
   "codemirror_mode": {
    "name": "ipython",
    "version": 3
   },
   "file_extension": ".py",
   "mimetype": "text/x-python",
   "name": "python",
   "nbconvert_exporter": "python",
   "pygments_lexer": "ipython3",
   "version": "3.7.0"
  }
 },
 "nbformat": 4,
 "nbformat_minor": 2
}
